{
 "cells": [
  {
   "cell_type": "code",
   "execution_count": 20,
   "metadata": {},
   "outputs": [],
   "source": [
    "# We are given an expression and we have to find its extremum point.\n",
    "\n",
    "from sympy import *\n",
    "\n",
    "def extremum(expr):\n",
    "    x= symbols('x')\n",
    "             \n",
    "    print(\"Expression: {}\".format(expr))\n",
    "\n",
    "    # Extremum point of the function are the points where derivative of the function will be zero.\n",
    "    der_expr=diff(expr,x)\n",
    "    print(\"Minima is at: x = Root of expression:\", der_expr)\n",
    "\n",
    "    # We use newton's method to find roots of derivative.\n",
    "\n",
    "    sec_der_expr=diff(der_expr,x)\n",
    "\n",
    "    tolerance=0.00001\n",
    "    x_n_1=0\n",
    "    x_n=float(input(\"Initial Guess\"))\n",
    "    iter=0\n",
    "\n",
    "    while abs(x_n-x_n_1)>tolerance:\n",
    "        x_n_1=x_n           # After every iteration we are making x_n_1 is equal to x_n so that it calculates new x_n \n",
    "        # Using previous value of x_n.\n",
    "\n",
    "        f_x_n_1=der_expr.subs(x,x_n_1)\n",
    "        fdash_x_n_1=sec_der_expr.subs(x,x_n_1) \n",
    "\n",
    "        # Update the value of x_n with the help of this expression \n",
    "        x_n = x_n_1 - (f_x_n_1.evalf()/fdash_x_n_1.evalf()) \n",
    "        iter=iter+1\n",
    "\n",
    "    print(\"Minima is at x=\", x_n)\n",
    "    print(\"No of iterations\", iter)\n",
    "    return(x_n)"
   ]
  },
  {
   "cell_type": "code",
   "execution_count": 43,
   "metadata": {},
   "outputs": [
    {
     "name": "stdout",
     "output_type": "stream",
     "text": [
      "Expression: exp(x) - log(x)\n",
      "Minima is at: x = Root of expression: exp(x) - 1/x\n",
      "Minima is at x= 0.567143290409784\n",
      "No of iterations 6\n"
     ]
    },
    {
     "data": {
      "text/latex": [
       "$\\displaystyle 0.567143290409784$"
      ],
      "text/plain": [
       "0.567143290409784"
      ]
     },
     "execution_count": 43,
     "metadata": {},
     "output_type": "execute_result"
    }
   ],
   "source": [
    "expr= exp(x)-log(x)  \n",
    "extremum(expr)"
   ]
  },
  {
   "cell_type": "code",
   "execution_count": 16,
   "metadata": {},
   "outputs": [
    {
     "name": "stdout",
     "output_type": "stream",
     "text": [
      "Expression: x**2 + x + 6\n",
      "Minima is at: x = Root of expression: 2*x + 1\n",
      "Minima is at x= -0.500000000000000\n",
      "No of iterations 2\n"
     ]
    },
    {
     "data": {
      "text/latex": [
       "$\\displaystyle -0.5$"
      ],
      "text/plain": [
       "-0.500000000000000"
      ]
     },
     "execution_count": 16,
     "metadata": {},
     "output_type": "execute_result"
    }
   ],
   "source": [
    "f_x=x**2 + x + 6\n",
    "extremum(f_x)"
   ]
  },
  {
   "cell_type": "code",
   "execution_count": 10,
   "metadata": {},
   "outputs": [
    {
     "name": "stdout",
     "output_type": "stream",
     "text": [
      "Expression: (x - 1)**2\n",
      "Minima is at: x = Root of expression: 2*x - 2\n",
      "Minima is at x= 1.00000000000000\n",
      "No of iterations 2\n"
     ]
    },
    {
     "data": {
      "text/latex": [
       "$\\displaystyle 1.0$"
      ],
      "text/plain": [
       "1.00000000000000"
      ]
     },
     "execution_count": 10,
     "metadata": {},
     "output_type": "execute_result"
    }
   ],
   "source": [
    "f_x=(x-1)**2\n",
    "extremum(f_x)"
   ]
  },
  {
   "cell_type": "code",
   "execution_count": null,
   "metadata": {},
   "outputs": [],
   "source": []
  }
 ],
 "metadata": {
  "kernelspec": {
   "display_name": "Python 3",
   "language": "python",
   "name": "python3"
  },
  "language_info": {
   "codemirror_mode": {
    "name": "ipython",
    "version": 3
   },
   "file_extension": ".py",
   "mimetype": "text/x-python",
   "name": "python",
   "nbconvert_exporter": "python",
   "pygments_lexer": "ipython3",
   "version": "3.12.0"
  }
 },
 "nbformat": 4,
 "nbformat_minor": 2
}
